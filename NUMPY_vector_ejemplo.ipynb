{
  "nbformat": 4,
  "nbformat_minor": 0,
  "metadata": {
    "colab": {
      "provenance": [],
      "authorship_tag": "ABX9TyNc7blnjMrnHGFFZmKlnkR4",
      "include_colab_link": true
    },
    "kernelspec": {
      "name": "python3",
      "display_name": "Python 3"
    },
    "language_info": {
      "name": "python"
    }
  },
  "cells": [
    {
      "cell_type": "markdown",
      "metadata": {
        "id": "view-in-github",
        "colab_type": "text"
      },
      "source": [
        "<a href=\"https://colab.research.google.com/github/desknoc/Arreglos_12_08_2025/blob/main/NUMPY_vector_ejemplo.ipynb\" target=\"_parent\"><img src=\"https://colab.research.google.com/assets/colab-badge.svg\" alt=\"Open In Colab\"/></a>"
      ]
    },
    {
      "cell_type": "code",
      "execution_count": 1,
      "metadata": {
        "colab": {
          "base_uri": "https://localhost:8080/"
        },
        "id": "zQw40b-LmGb3",
        "outputId": "a1743426-96f8-47ad-f061-0d3b88b19e95"
      },
      "outputs": [
        {
          "output_type": "stream",
          "name": "stdout",
          "text": [
            "[0. 0. 0. 0. 0.]\n",
            "[1. 1. 1. 1. 1.]\n",
            "rango [1 2 3 4 5 6 7 8 9]\n",
            "linspace [ 1.    3.25  5.5   7.75 10.  ]\n",
            "random [0.05250406 0.51966664 0.04190877 0.56626957 0.1007239  0.55074431\n",
            " 0.94516081 0.58590294 0.85042597 0.12690418]\n",
            "randint [6 5 2 4 2 5 6 1 9 1 9 1 9 1 7 8 1 7 3 8 4 3 1 7 3 6 4 8 3 7 4 4 3 7 7 7 6\n",
            " 4 1 3 5 9 1 7 2 7 8 2 9 3 1 7 6 5 9 3 3 6 2 1 1 1 6 8 4 6 7 9 6 3 8 7 3 9\n",
            " 6 9 3 6 1 2 4 2 6 9 4 3 3 9 9 2 6 9 5 2 8 7 4 5 9 9]\n"
          ]
        }
      ],
      "source": [
        "import numpy as np # np es un alias para simplificar el nombre numpy\n",
        "vector = np.array([1,2,3,4,5]) # Creamos un vector de numpy\n",
        "\n",
        "vector1 =np.zeros(5) #creamos un vector de 5 ceros\n",
        "print(vector1)\n",
        "vector2 =np.ones(5) #creamos un vector de 5 unos\n",
        "print(vector2)\n",
        "vector3 = np.arange(1,10) #creamos un vector de rango de 1 a 10\n",
        "print(\"rango\", vector3)\n",
        "vector4 = np.linspace(1,10,5) #creamos un vector de intervalos de 1, 10 y 5\n",
        "print(\"linspace\", vector4)\n",
        "vector5 = np.random.rand(10) #creamos un vector random de 10 numeros aleatorios\n",
        "print(\"random\", vector5)\n",
        "vector6 = np.random.randint(1,10,100) #creamos un vector random de de 1 a 100 numeros aleatorios\n",
        "print(\"randint\", vector6)"
      ]
    },
    {
      "cell_type": "code",
      "source": [
        "import numpy as np\n",
        "vector1 = np.array([1,2,3])\n",
        "vector2 = np.array([4,5,6])\n",
        "#suma de vectores\n",
        "suma = vector1 + vector2\n",
        "print(\"suma de vectores: \", suma)\n",
        "#multiplicacion de vectores\n",
        "producto = vector1 * vector2\n",
        "print(\"producto de vectores: \", producto)\n",
        "#division de vectores\n",
        "division = vector1 / vector2\n",
        "print(\"division de vectores: \", division)\n",
        "#resta de vectores\n",
        "resta= vector1 - vector2\n",
        "print(\"Resta de vectores: \", resta)\n",
        "#potencia de vectores\n",
        "potencia = vector1 ** 2\n",
        "print(\"\\x1b[1;33m\"+\"potencia de vectores: \", potencia)\n"
      ],
      "metadata": {
        "colab": {
          "base_uri": "https://localhost:8080/"
        },
        "id": "G6DdSlDEqviY",
        "outputId": "b3401437-eb72-44b2-942b-a18c2e53ab2e"
      },
      "execution_count": 2,
      "outputs": [
        {
          "output_type": "stream",
          "name": "stdout",
          "text": [
            "suma de vectores:  [5 7 9]\n",
            "producto de vectores:  [ 4 10 18]\n",
            "division de vectores:  [0.25 0.4  0.5 ]\n",
            "Resta de vectores:  [-3 -3 -3]\n",
            "\u001b[1;33mpotencia de vectores:  [1 4 9]\n"
          ]
        }
      ]
    },
    {
      "cell_type": "markdown",
      "source": [
        "![imagen_2025-08-12_093338558.png](data:image/png;base64,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)"
      ],
      "metadata": {
        "id": "7RMUunnusz2e"
      }
    },
    {
      "cell_type": "code",
      "source": [
        "import numpy as np\n",
        "#matrices\n",
        "#crear una matriz de 3x3 con valores aleatorios\n",
        "matriz = np.random.randint(0, 100, (3,3)) # creamos una matriz de 3x3\n",
        "print(matriz)\n",
        "#rango es de 1 al 1000 dimension de matriz 3* 3 esto significa que son 5 elementos\n",
        "# This line seems to be an incorrect way to generate random integers.\n",
        "# A simpler way is to use np.random.randint directly.\n",
        "# matriz2 = np.random.generator(np.random.PCG64()).integers(0,100,(3,3))\n",
        "# print(\"\\x1b[1;33m\"+matriz2) # This will cause an error as you cannot concatenate string with numpy array\n",
        "\n",
        "# Let's generate another random matrix using the standard method\n",
        "matriz2 = np.random.randint(0, 100, (3,3))\n",
        "print(\"Another random matrix:\\n\", matriz2)\n",
        "\n",
        "\n",
        "#crear matriz identidad de 3x3\n",
        "matriz_identidad = np.eye(3)\n",
        "print(\"Matriz identidad:\\n\", matriz_identidad)\n",
        "\n",
        "#transpuoner una matriz\n",
        "matriz_transpuesta = matriz.T\n",
        "print(\"Matriz transpuesta:\\n\", matriz_transpuesta)\n",
        "\n",
        "matriz_zeros = np.zeros((2,2)) #creamos una matriz de ceros de 2x2\n",
        "print(\"Matriz de ceros inicial:\\n\", matriz_zeros)\n",
        "print(\"_________________________________________\")\n",
        "for incrementador in range (2):\n",
        "    matriz_zeros[incrementador][incrementador] = 1\n",
        "print(\"Matriz con diagonal de unos:\\n\", matriz_zeros)\n",
        "for fila in range (2):\n",
        "    for columna in range(2):\n",
        "        matriz_zeros[fila][columna] = (np.random.randint(0, 100))+1\n",
        "print(\"Matriz con valores aleatorios:\\n\", matriz_zeros)"
      ],
      "metadata": {
        "colab": {
          "base_uri": "https://localhost:8080/",
          "height": 280
        },
        "id": "-d4ZwGvY8Nqc",
        "outputId": "4e30e987-a1e9-4443-953f-ee2f1d1c3a58"
      },
      "execution_count": 3,
      "outputs": [
        {
          "output_type": "stream",
          "name": "stderr",
          "text": [
            "<>:4: SyntaxWarning: 'int' object is not callable; perhaps you missed a comma?\n",
            "<>:4: SyntaxWarning: 'int' object is not callable; perhaps you missed a comma?\n",
            "/tmp/ipython-input-1520336419.py:4: SyntaxWarning: 'int' object is not callable; perhaps you missed a comma?\n",
            "  matriz = np.random.randint(0, 100 (3,3)) # creamos una matriz de 3x3\n"
          ]
        },
        {
          "output_type": "error",
          "ename": "TypeError",
          "evalue": "'int' object is not callable",
          "traceback": [
            "\u001b[0;31m---------------------------------------------------------------------------\u001b[0m",
            "\u001b[0;31mTypeError\u001b[0m                                 Traceback (most recent call last)",
            "\u001b[0;32m/tmp/ipython-input-1520336419.py\u001b[0m in \u001b[0;36m<cell line: 0>\u001b[0;34m()\u001b[0m\n\u001b[1;32m      2\u001b[0m \u001b[0;31m#matrices\u001b[0m\u001b[0;34m\u001b[0m\u001b[0;34m\u001b[0m\u001b[0m\n\u001b[1;32m      3\u001b[0m \u001b[0;31m#crear una matriz de 3x3 con valores aleatorios\u001b[0m\u001b[0;34m\u001b[0m\u001b[0;34m\u001b[0m\u001b[0m\n\u001b[0;32m----> 4\u001b[0;31m \u001b[0mmatriz\u001b[0m \u001b[0;34m=\u001b[0m \u001b[0mnp\u001b[0m\u001b[0;34m.\u001b[0m\u001b[0mrandom\u001b[0m\u001b[0;34m.\u001b[0m\u001b[0mrandint\u001b[0m\u001b[0;34m(\u001b[0m\u001b[0;36m0\u001b[0m\u001b[0;34m,\u001b[0m \u001b[0;36m100\u001b[0m \u001b[0;34m(\u001b[0m\u001b[0;36m3\u001b[0m\u001b[0;34m,\u001b[0m\u001b[0;36m3\u001b[0m\u001b[0;34m)\u001b[0m\u001b[0;34m)\u001b[0m \u001b[0;31m# creamos una matriz de 3x3\u001b[0m\u001b[0;34m\u001b[0m\u001b[0;34m\u001b[0m\u001b[0m\n\u001b[0m\u001b[1;32m      5\u001b[0m \u001b[0mprint\u001b[0m\u001b[0;34m(\u001b[0m\u001b[0mmatriz\u001b[0m\u001b[0;34m)\u001b[0m\u001b[0;34m\u001b[0m\u001b[0;34m\u001b[0m\u001b[0m\n\u001b[1;32m      6\u001b[0m \u001b[0;31m#rango es de 1 al 1000 dimension de matriz 3* 3 esto significa que son 5 elementos\u001b[0m\u001b[0;34m\u001b[0m\u001b[0;34m\u001b[0m\u001b[0m\n",
            "\u001b[0;31mTypeError\u001b[0m: 'int' object is not callable"
          ]
        }
      ]
    }
  ]
}
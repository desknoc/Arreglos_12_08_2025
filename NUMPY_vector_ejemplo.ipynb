{
  "nbformat": 4,
  "nbformat_minor": 0,
  "metadata": {
    "colab": {
      "provenance": [],
      "authorship_tag": "ABX9TyMxAo+nHYa/75w2lmlIC9HG",
      "include_colab_link": true
    },
    "kernelspec": {
      "name": "python3",
      "display_name": "Python 3"
    },
    "language_info": {
      "name": "python"
    }
  },
  "cells": [
    {
      "cell_type": "markdown",
      "metadata": {
        "id": "view-in-github",
        "colab_type": "text"
      },
      "source": [
        "<a href=\"https://colab.research.google.com/github/desknoc/Arreglos_12_08_2025/blob/main/NUMPY_vector_ejemplo.ipynb\" target=\"_parent\"><img src=\"https://colab.research.google.com/assets/colab-badge.svg\" alt=\"Open In Colab\"/></a>"
      ]
    },
    {
      "cell_type": "code",
      "execution_count": 1,
      "metadata": {
        "colab": {
          "base_uri": "https://localhost:8080/"
        },
        "id": "zQw40b-LmGb3",
        "outputId": "a1743426-96f8-47ad-f061-0d3b88b19e95"
      },
      "outputs": [
        {
          "output_type": "stream",
          "name": "stdout",
          "text": [
            "[0. 0. 0. 0. 0.]\n",
            "[1. 1. 1. 1. 1.]\n",
            "rango [1 2 3 4 5 6 7 8 9]\n",
            "linspace [ 1.    3.25  5.5   7.75 10.  ]\n",
            "random [0.05250406 0.51966664 0.04190877 0.56626957 0.1007239  0.55074431\n",
            " 0.94516081 0.58590294 0.85042597 0.12690418]\n",
            "randint [6 5 2 4 2 5 6 1 9 1 9 1 9 1 7 8 1 7 3 8 4 3 1 7 3 6 4 8 3 7 4 4 3 7 7 7 6\n",
            " 4 1 3 5 9 1 7 2 7 8 2 9 3 1 7 6 5 9 3 3 6 2 1 1 1 6 8 4 6 7 9 6 3 8 7 3 9\n",
            " 6 9 3 6 1 2 4 2 6 9 4 3 3 9 9 2 6 9 5 2 8 7 4 5 9 9]\n"
          ]
        }
      ],
      "source": [
        "import numpy as np # np es un alias para simplificar el nombre numpy\n",
        "vector = np.array([1,2,3,4,5]) # Creamos un vector de numpy\n",
        "\n",
        "vector1 =np.zeros(5) #creamos un vector de 5 ceros\n",
        "print(vector1)\n",
        "vector2 =np.ones(5) #creamos un vector de 5 unos\n",
        "print(vector2)\n",
        "vector3 = np.arange(1,10) #creamos un vector de rango de 1 a 10\n",
        "print(\"rango\", vector3)\n",
        "vector4 = np.linspace(1,10,5) #creamos un vector de intervalos de 1, 10 y 5\n",
        "print(\"linspace\", vector4)\n",
        "vector5 = np.random.rand(10) #creamos un vector random de 10 numeros aleatorios\n",
        "print(\"random\", vector5)\n",
        "vector6 = np.random.randint(1,10,100) #creamos un vector random de de 1 a 100 numeros aleatorios\n",
        "print(\"randint\", vector6)"
      ]
    }
  ]
}